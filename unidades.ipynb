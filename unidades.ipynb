{
 "cells": [
  {
   "cell_type": "markdown",
   "metadata": {},
   "source": [
    "# Unidades Naturais (para o nosso problema)\n",
    "\n",
    "Para escapar desses problemas foi útil utilizar um outro sistema de unidades para resolver numericamente. Nesse sistema temos $c = G = M_{\\odot} = 1$. Mas, para utilizar esse sistema precisamos saber como converter as unidades básicas do sistema internacional ($kg$, $m$, $s$). Precisamos combinar $c$, $G$ e $M_{\\odot}$ de modo que obtemos essas unidades. Temos, para sistemas de unidades baseados em $m$(massa), $\\ell$(distância) e $t$(tempo)\n",
    "\n",
    "$$[c^{\\alpha} G^{\\beta} M_{\\odot}^{\\gamma}] = m^a \\ell^b t^c$$\n",
    "\n",
    "mas sabemos as dimensões em $m \\ell t$ de $c$, $G$ e $M_{\\odot}$\n",
    "\n",
    "$$[c] = \\ell t^{-1}$$\n",
    "$$[G] = m^{-1} \\ell^3 t^{-2}$$\n",
    "$$[M_{\\odot}] = m$$\n",
    "\n",
    "substituindo na equação anterior obtemos:\n",
    "\n",
    "$$m^{-\\beta + \\gamma} \\ell^{\\alpha + 3\\beta} t^{-\\alpha -2\\beta} = m^a \\ell^b t^c$$\n",
    "\n",
    "a partir disso obtemos um sistema:\n",
    "\n",
    "$$-\\beta + \\gamma = a$$\n",
    "$$\\alpha + 3\\beta = b$$\n",
    "$$-\\alpha -2\\beta = c$$\n",
    "\n",
    "Para saber se existe alguma dimensão nesse sistema eu utilizei o sistema de unidades geometrizadas $c = G = 1$, nesse sistema a única unidade restante é comprimento - não conseguiria defender isso, mas acho que tá certo -  e massa tem dimensões de comprimento, mas, como estamos utilizando a massa solar sem dimensões e igual a 1 significa que nenhuma grandeza física tem uma unidade. Apesar de perdermos grande parte da interpretação física e análise dimensional, é muito útil para resolver esse problema.\n",
    "\n",
    "Então a partir desse sistema obtido podemos obter os fatores de conversão desse sistema para o sistema internacional (e para outros sistemas), fazemos isso utilizando, por exemplo, $a = 1$, $b = c = 0$ e resolvendo o sistema. Para cada um dos três casos temos as conversões desse sistema de unidades para o sistema internacional:\n",
    "\n",
    "$$\\text{unidade de massa} = M_{\\odot} = 1.989 \\times 10^{30} kg$$\n",
    "$$\\text{unidade de distancia} = \\frac{G M_{\\odot}}{c^2} = 1.477 \\times 10^3 m$$\n",
    "$$\\text{unidade de tempo} = \\frac{G M_{\\odot}}{c^3} = 4.927 \\times 10^{-6}s$$\n",
    "\n",
    "A partir desses fatores podemos achar fatores de conversão para qualquer outra grandeza do SI (acho que também daria para resolver o sistema novamente para cada um dos fatores e talvez reduzir erros de aproximação?) .\n",
    "\n",
    "Utilizando esse sistema de unidades também temos algumas mudanças nas equações de equilíbrio hidroestatico e continuidade de massa:\n",
    "\n",
    "$$\\frac{dp}{dr} = -\\frac{M(r) \\epsilon(r)}{r^2}$$\n",
    "$$\\frac{dM}{dr} = 4\\pi r^2 \\epsilon(r)$$\n",
    "\n",
    "(ou, se for utilizada a TOV completa)\n",
    "\n",
    "$$\\frac{dp}{dr} = -\\frac{M(r) \\epsilon(r)}{r^2} \\bigg(1 + \\frac{p(r)}{\\epsilon(r)} \\bigg) \\bigg(1 + \\frac{4\\pi r^3 p(r)}{M(r)} \\bigg) \\bigg( 1 - \\frac{2M(r)}{r} \\bigg)^{-1}$$\n",
    "\n",
    "e a equação da continuidade de massa permanece inalterada."
   ]
  },
  {
   "cell_type": "markdown",
   "metadata": {},
   "source": []
  }
 ],
 "metadata": {
  "kernelspec": {
   "display_name": "Julia 1.9.3",
   "language": "julia",
   "name": "julia-1.9"
  },
  "language_info": {
   "file_extension": ".jl",
   "mimetype": "application/julia",
   "name": "julia",
   "version": "1.9.3"
  }
 },
 "nbformat": 4,
 "nbformat_minor": 2
}
