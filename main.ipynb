{
 "cells": [
  {
   "cell_type": "markdown",
   "metadata": {},
   "source": [
    "# Equação de Tolman-Oppenheimer-Volkoff (TOV)\n",
    "\n",
    "Partimos da métrica de Swarzschild (trabalhamos com unidades onde $c = G = 1$):\n",
    "\n",
    "$$ds^2 =  -\\left( 1 - \\frac{2M}{r} \\right) dt^2 + {\\left( 1 - \\frac{2M}{r} \\right)}^{-1} dr^2 + r^2 d\\theta^2 + r^2 \\sin^2 \\theta d\\phi^2$$\n",
    "\n",
    "e do tensor de energia momentum para um fluido perfeito:\n",
    "\n",
    "$$T^{\\mu \\nu} = (\\rho + p)U^{\\mu} U^{\\nu} + p g^{\\mu \\nu} $$\n",
    "\n",
    "As equações de campo de Einsten nos dão a relação entre a métrica e o tensor de energia momentum:\n",
    "\n",
    "$$R_{\\mu \\nu} - \\frac{1}{2} R g_{\\mu \\nu} = 8 \\pi T_{\\mu \\nu}$$\n",
    "\n",
    "Com isso podemos igualar ambas essas grandezas e, após um pouco de álgebra, chegamos a:\n",
    "\n",
    "$$\\frac{dp}{dr} = -\\frac{m(r) \\epsilon (r)}{r^2} \\left[ 1 - \\frac{p(r)}{\\epsilon(r)} \\right] \\left[ 1 + \\frac{4 \\pi r^3 p(r)}{m(r)} \\right] {\\left[ 1 - \\frac{2m(r)}{r} \\right]}^{-1}$$\n",
    "$$\\frac{dm}{dr} = 4 \\pi r^2 \\epsilon(r)$$\n",
    "\n",
    "\n",
    "São duas equações diferenciais acopladas, que, com as condições de que a massa no centro seja $m(0) = 0$ e que a pressão na superfície seja $p(r = R) = 0$ onde $R$ ficará definido como o raio da estrela e $m(r = R) = M$ é a massa total da estrela (massa gravitacional). Ainda precisamos de uma condição inicial na pressão que será $p(0) = p_0$, essa condição porém será arbitrária. *Estrelas com $p_0$ diferente terão valores de massa ($M$) e raio ($R$) diferentes*. Ainda nos falta uma informação, que é $\\epsilon(r)$."
   ]
  },
  {
   "cell_type": "markdown",
   "metadata": {},
   "source": [
    "# Equação de estado\n",
    "\n",
    "É a equação de estado que nos diz sobre como a matéria da estrela é constituida e como ela interage. Com uma equação de estado podemos encontrar uma relação entre $p(r)$ e $\\epsilon(r)$ e finalmente resolvermos o sistema. A equação de estado mais simples que existe é a equação de estado politrópica onte temos:\n",
    "\n",
    "$$p = K\\epsilon^{\\gamma}$$\n",
    "\n",
    "onde $K$ é uma constante e $\\gamma$ um índice politrópico (não lembro ao certo se o $\\gamma$ é o índice politrópico). Porém, essa equação de estado simplesmente considera a estrela como uma bola de gás e podemos achar bem difícil e não tão agradável trabalhar com equações de estado politrópicas."
   ]
  },
  {
   "cell_type": "markdown",
   "metadata": {},
   "source": [
    "# Método de Runge-Kutta\n",
    "\n",
    "O método mais clássico de resolver equações diferenciais é o de Newton (às vezes também chamado de Euler) onde seguimos a reta tangente (que é obtida da equação diferencial) e vamos seguindo ela para obtermos as curvas das soluções (geralmente descrevem como se estivéssemos integrando). Quando nos deparamos com um problema não-linear esse método acaba ficando menos preciso e altamente dependente de passos muito pequenos. Então precisamos de um método que funcione também para problemas não-lineares (que é o caso da equação de TOV), o método que utilizaremos é o de Runge-Kutta, em específico o RK4.\n",
    "\n",
    "Um problema de valor inicial é dado por:\n",
    "\n",
    "$$\\frac{dy}{dx} = f(t, y)$$\n",
    "$$y(t_0) = y_0$$\n",
    "\n",
    "Partindo de um $y(t_0) = y_0$ e com um passo $h$ temos o próximo valor da solução:\n",
    "\n",
    "$$y_{n+1} = y_{n} + h \\left( \\frac{k_{n1} + 2k_{n2} + 2k_{n3} + k_{n4}}{6} \\right)$$\n",
    "onde\n",
    "$$k_{n1} = f(t_n, y_n)$$\n",
    "$$k_{n2} = f \\bigg( t_n + \\frac{h}{2}, h + \\frac{k_{n1}}{2} \\bigg)$$\n",
    "$$k_{n3} = f \\bigg( t_n + \\frac{h}{2}, h + \\frac{k_{n2}}{2} \\bigg)$$\n",
    "$$k_{n4} = f(t_n + h, y_n + hk_{n3})$$\n",
    "\n",
    "Quando temos sistemas de equações diferenciais basta tratarmos $y$ como um vetor. Vamos chamar agora as soluções de $\\vec{x}$ que satisfazem o problema de valor inicial:\n",
    "\n",
    "$$\\frac{d\\vec{x}}{dt} = \\vec{f}(t, \\vec{x})$$\n",
    "$$\\vec{x}(t_0) = \\vec{x}_0$$\n",
    "\n",
    "e então teremos a seguinte forma:\n",
    "\n",
    "$$\\vec{x}_{n+1} = \\vec{x}_{n} + h \\left( \\frac{\\vec{k}_{n1} + 2\\vec{k}_{n2} + 2\\vec{k}_{n3} + \\vec{k}_{n4}}{6} \\right)$$\n",
    "onde\n",
    "$$\\vec{k}_{n1} = \\vec{f}(t_n, \\vec{x}_n)$$\n",
    "$$\\vec{k}_{n2} = \\vec{f} \\bigg( t_n + \\frac{h}{2}, \\vec{x}_{n} + \\frac{\\vec{k}_{n1}}{2} \\bigg)$$\n",
    "$$\\vec{k}_{n3} = \\vec{f} \\bigg( t_n + \\frac{h}{2}, \\vec{x}_{n} + \\frac{\\vec{k}_{n2}}{2} \\bigg)$$\n",
    "$$\\vec{k}_{n4} = \\vec{f}(t_n + h, \\vec{x}_n + h\\vec{k}_{n3})$$"
   ]
  },
  {
   "cell_type": "markdown",
   "metadata": {},
   "source": []
  }
 ],
 "metadata": {
  "kernelspec": {
   "display_name": "Julia 1.9.3",
   "language": "julia",
   "name": "julia-1.9"
  },
  "language_info": {
   "file_extension": ".jl",
   "mimetype": "application/julia",
   "name": "julia",
   "version": "1.9.3"
  }
 },
 "nbformat": 4,
 "nbformat_minor": 2
}
